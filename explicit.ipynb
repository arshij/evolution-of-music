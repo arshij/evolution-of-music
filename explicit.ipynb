{
 "cells": [
  {
   "cell_type": "markdown",
   "metadata": {},
   "source": [
    "### Imports"
   ]
  },
  {
   "cell_type": "code",
   "execution_count": null,
   "metadata": {},
   "outputs": [],
   "source": [
    "import spotipy\n",
    "from spotipy.oauth2 import SpotifyClientCredentials\n",
    "import pandas as pd\n",
    "import plotly.express as px\n",
    "from collections import OrderedDict"
   ]
  },
  {
   "cell_type": "markdown",
   "metadata": {},
   "source": [
    "### Authenticate Requests via the Client Credientials Flow"
   ]
  },
  {
   "cell_type": "code",
   "execution_count": null,
   "metadata": {},
   "outputs": [],
   "source": [
    "auth_manager = SpotifyClientCredentials()\n",
    "spotify = spotipy.Spotify(auth_manager=auth_manager)"
   ]
  },
  {
   "cell_type": "markdown",
   "metadata": {},
   "source": [
    "### Load all playlists"
   ]
  },
  {
   "cell_type": "code",
   "execution_count": null,
   "metadata": {},
   "outputs": [],
   "source": [
    "_1950 = spotify.playlist('37i9dQZF1DWSV3Tk4GO2fq') # 1950's hit playlist\n",
    "_1960 = spotify.playlist('37i9dQZF1DXaKIA8E7WcJj') # 1960's hit playlist\n",
    "_1970 = spotify.playlist('37i9dQZF1DWTJ7xPn4vNaz') # 1970's hit playlist\n",
    "_1980 = spotify.playlist('37i9dQZF1DX4UtSsGT1Sbe') # 1980's hit playlist\n",
    "_1990 = spotify.playlist('37i9dQZF1DXbTxeAdrVG2l') # 1990's hit playlist\n",
    "_2000 = spotify.playlist('37i9dQZF1DX4o1oenSJRJd') # 2000's hit playlist\n",
    "_2010 = spotify.playlist('37i9dQZF1DX5Ejj0EkURtP') # 2010's hit playlist\n",
    "\n",
    "playlists = [_1950, _1960, _1970, _1980, _1990, _2000, _2010]"
   ]
  },
  {
   "cell_type": "markdown",
   "metadata": {},
   "source": [
    "### Get Explict Count From Each Decade Playlist"
   ]
  },
  {
   "cell_type": "code",
   "execution_count": null,
   "metadata": {
    "scrolled": true
   },
   "outputs": [],
   "source": [
    "explicit_count_1950 = 0\n",
    "explicit_count_1960 = 0\n",
    "explicit_count_1970 = 0\n",
    "explicit_count_1980 = 0\n",
    "explicit_count_1990 = 0\n",
    "explicit_count_2000 = 0\n",
    "explicit_count_2010 = 0\n",
    "\n",
    "explicit_counts = [explicit_count_1950, explicit_count_1960, explicit_count_1970, explicit_count_1980, explicit_count_1990, explicit_count_2000, explicit_count_2010]\n",
    "\n",
    "for index, playlist in enumerate(playlists):\n",
    "    tracks = playlist['tracks']['items'] # get all tracks in playlist object\n",
    "    for track in tracks:\n",
    "        if track['track']['explicit'] == True:\n",
    "            explicit_counts[index] += 1"
   ]
  },
  {
   "cell_type": "code",
   "execution_count": null,
   "metadata": {},
   "outputs": [],
   "source": [
    "df = pd.DataFrame(explicit_counts)\n",
    "df.columns = ['Count']\n",
    "df['Decade'] = [\"1950's\", \"1960's\", \"1970's\", \"1980's\", \"1990's\", \"2000's\", \"2010's\"]"
   ]
  },
  {
   "cell_type": "code",
   "execution_count": null,
   "metadata": {},
   "outputs": [],
   "source": [
    "fig = px.line(df, x=\"Decade\", y=\"Count\", title='Explicit Hits Through The Decades')\n",
    "fig.data[0].update(mode='markers+lines')\n",
    "fig.update_layout(font=dict(family=\"Helvetica\", color=\"#343a40\", size=12))\n",
    "fig.show()"
   ]
  }
 ],
 "metadata": {
  "kernelspec": {
   "display_name": "Python 3",
   "language": "python",
   "name": "python3"
  },
  "language_info": {
   "codemirror_mode": {
    "name": "ipython",
    "version": 3
   },
   "file_extension": ".py",
   "mimetype": "text/x-python",
   "name": "python",
   "nbconvert_exporter": "python",
   "pygments_lexer": "ipython3",
   "version": "3.8.5"
  }
 },
 "nbformat": 4,
 "nbformat_minor": 4
}
