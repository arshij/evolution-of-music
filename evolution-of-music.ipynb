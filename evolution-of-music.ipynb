{
 "cells": [
  {
   "cell_type": "markdown",
   "metadata": {},
   "source": [
    "### Imports"
   ]
  },
  {
   "cell_type": "code",
   "execution_count": null,
   "metadata": {},
   "outputs": [],
   "source": [
    "import spotipy\n",
    "from spotipy.oauth2 import SpotifyClientCredentials\n",
    "import pandas as pd\n",
    "import plotly.express as px"
   ]
  },
  {
   "cell_type": "markdown",
   "metadata": {},
   "source": [
    "### Authenticate Requests via the Client Credientials Flow"
   ]
  },
  {
   "cell_type": "code",
   "execution_count": null,
   "metadata": {},
   "outputs": [],
   "source": [
    "auth_manager = SpotifyClientCredentials()\n",
    "spotify = spotipy.Spotify(auth_manager=auth_manager)"
   ]
  },
  {
   "cell_type": "markdown",
   "metadata": {},
   "source": [
    "### Load all playlists"
   ]
  },
  {
   "cell_type": "code",
   "execution_count": null,
   "metadata": {},
   "outputs": [],
   "source": [
    "_1950 = spotify.playlist('37i9dQZF1DWSV3Tk4GO2fq') # 1950's hit playlist\n",
    "_1960 = spotify.playlist('37i9dQZF1DXaKIA8E7WcJj') # 1960's hit playlist\n",
    "_1970 = spotify.playlist('37i9dQZF1DWTJ7xPn4vNaz') # 1970's hit playlist\n",
    "_1980 = spotify.playlist('37i9dQZF1DX4UtSsGT1Sbe') # 1980's hit playlist\n",
    "_1990 = spotify.playlist('37i9dQZF1DXbTxeAdrVG2l') # 1990's hit playlist\n",
    "_2000 = spotify.playlist('37i9dQZF1DWSV3Tk4GO2fq') # 2000's hit playlist\n",
    "_2010 = spotify.playlist('37i9dQZF1DX4o1oenSJRJd') # 2010's hit playlist\n",
    "\n",
    "playlists = [_1950, _1960, _1970, _1980, _1990, _2000, _2010]"
   ]
  },
  {
   "cell_type": "markdown",
   "metadata": {},
   "source": [
    "### Extract 6 Key Features From Each Decade"
   ]
  },
  {
   "cell_type": "code",
   "execution_count": null,
   "metadata": {},
   "outputs": [],
   "source": [
    "acousticness_per_decade = []\n",
    "danceability_per_decade = []\n",
    "energy_per_decade = []\n",
    "speechiness_per_decade = []\n",
    "tempo_per_decade = []\n",
    "happiness_per_decade = []\n",
    "\n",
    "for playlist in playlists:\n",
    "    \n",
    "    tracks = playlist['tracks']['items'] # get all tracks in playlist object\n",
    "    track_uri_list = []\n",
    "    \n",
    "    for track in tracks:\n",
    "        track_uri_list.append(track['track']['id']) # extract track uri and add to track_uri_list\n",
    "    \n",
    "    audio_features = spotify.audio_features(track_uri_list)\n",
    "    \n",
    "    acousticness_list = []\n",
    "    danceability_list = []\n",
    "    energy_list = []\n",
    "    speechiness_list = []\n",
    "    tempo_list = []\n",
    "    happiness_list = []\n",
    "\n",
    "    for track in audio_features:\n",
    "        acousticness_list.append(track['acousticness'])\n",
    "        danceability_list.append(track['danceability'])\n",
    "        energy_list.append(track['energy'])\n",
    "        speechiness_list.append(track['speechiness'])\n",
    "        tempo_list.append(track['tempo'])\n",
    "        happiness_list.append(track['valence'])\n",
    "    \n",
    "    acousticness_per_decade.append(sum(acousticness_list))\n",
    "    danceability_per_decade.append(sum(danceability_list))\n",
    "    energy_per_decade.append(sum(energy_list))\n",
    "    speechiness_per_decade.append(sum(speechiness_list)*10)\n",
    "    tempo_per_decade.append(sum(tempo_list)/len(tempo_list))\n",
    "    happiness_per_decade.append(sum(happiness_list))"
   ]
  },
  {
   "cell_type": "markdown",
   "metadata": {},
   "source": [
    "#### Merge decades lists into dataframe"
   ]
  },
  {
   "cell_type": "code",
   "execution_count": null,
   "metadata": {},
   "outputs": [],
   "source": [
    "decades = ['1950s', '1960s', '1970s', '1980s', '1990s', '2000s', '2010s']\n",
    "\n",
    "# create a dict of features lists\n",
    "all_features = {'Decade': decades,\n",
    "                'Acousticness': acousticness_per_decade, \n",
    "                'Danceability': danceability_per_decade, \n",
    "                'Energy': energy_per_decade,\n",
    "                'Speechiness': speechiness_per_decade,\n",
    "                'Tempo': tempo_per_decade,\n",
    "                'Happiness': happiness_per_decade}\n",
    "\n",
    "df = pd.DataFrame(all_features) \n",
    "df = df.set_index('Decade')\n",
    "# df = df.drop(columns=['Tempo'])"
   ]
  },
  {
   "cell_type": "code",
   "execution_count": null,
   "metadata": {},
   "outputs": [],
   "source": [
    "# colors for charts\n",
    "\n",
    "color_1950 = 'rgba(134, 49, 117, 0.7)'\n",
    "color_1960 = 'rgba(165, 90, 149, 0.5)'\n",
    "color_1970 = 'rgba(232, 69, 129, 0.7)'\n",
    "color_1980 = 'rgba(238, 156, 172, 0.8)'\n",
    "color_1990 = 'rgba(232, 93, 4, 0.7)'\n",
    "color_2000 = 'rgba(240, 166, 147, 0.8)'\n",
    "color_2010 = 'rgba(247, 178, 103, 0.7)'"
   ]
  },
  {
   "cell_type": "markdown",
   "metadata": {},
   "source": [
    "#### Radar Plot for 1950s"
   ]
  },
  {
   "cell_type": "code",
   "execution_count": null,
   "metadata": {},
   "outputs": [],
   "source": [
    "analysis_1950 = df.loc['1950s', : ].tolist()\n",
    "\n",
    "df_1950 = pd.DataFrame(dict(\n",
    "    r=analysis_1950,\n",
    "    theta=['Acousticness','Danceability','Energy',\n",
    "           'Speechiness', 'Happiness']))\n",
    "fig_1950 = px.line_polar(df_1950, r='r', theta='theta', line_close=True)\n",
    "fig_1950.update_layout(font=dict(family=\"Helvetica\", color=\"#343a40\", size=14))\n",
    "fig_1950.update_traces(fill='toself', fillcolor=color_1950, mode='none')\n",
    "fig_1950.show()"
   ]
  },
  {
   "cell_type": "markdown",
   "metadata": {},
   "source": [
    "#### Radar Plot for 1960s"
   ]
  },
  {
   "cell_type": "code",
   "execution_count": null,
   "metadata": {},
   "outputs": [],
   "source": [
    "analysis_1960 = df.loc['1960s', : ].tolist()\n",
    "\n",
    "df_1960 = pd.DataFrame(dict(\n",
    "    r=analysis_1960,\n",
    "    theta=['Acousticness','Danceability','Energy',\n",
    "           'Speechiness', 'Happiness']))\n",
    "fig_1960 = px.line_polar(df_1960, r='r', theta='theta', line_close=True)\n",
    "fig_1960.update_layout(font=dict(family=\"Helvetica\", color=\"#343a40\", size=14))\n",
    "fig_1960.update_traces(fill='toself', fillcolor=color_1960, mode='none')\n",
    "fig_1960.show()"
   ]
  },
  {
   "cell_type": "markdown",
   "metadata": {},
   "source": [
    "#### Radar Plot for 1970s"
   ]
  },
  {
   "cell_type": "code",
   "execution_count": null,
   "metadata": {},
   "outputs": [],
   "source": [
    "analysis_1970 = df.loc['1970s', : ].tolist()\n",
    "\n",
    "df_1970 = pd.DataFrame(dict(\n",
    "    r=analysis_1970,\n",
    "    theta=['Acousticness','Danceability','Energy',\n",
    "           'Speechiness', 'Happiness']))\n",
    "fig_1970 = px.line_polar(df_1970, r='r', theta='theta', line_close=True)\n",
    "fig_1970.update_layout(font=dict(family=\"Helvetica\", color=\"#343a40\", size=14))\n",
    "fig_1970.update_traces(fill='toself', fillcolor=color_1970, mode='none')\n",
    "fig_1970.show()"
   ]
  },
  {
   "cell_type": "markdown",
   "metadata": {},
   "source": [
    "#### Radar Plot for 1980s"
   ]
  },
  {
   "cell_type": "code",
   "execution_count": null,
   "metadata": {},
   "outputs": [],
   "source": [
    "analysis_1980 = df.loc['1980s', : ].tolist()\n",
    "\n",
    "df_1980 = pd.DataFrame(dict(\n",
    "    r=analysis_1980,\n",
    "    theta=['Acousticness','Danceability','Energy',\n",
    "           'Speechiness', 'Happiness']))\n",
    "fig_1980 = px.line_polar(df_1980, r='r', theta='theta', line_close=True)\n",
    "fig_1980.update_layout(font=dict(family=\"Helvetica\", color=\"#343a40\", size=14))\n",
    "fig_1980.update_traces(fill='toself', fillcolor=color_1980, mode='none')\n",
    "fig_1980.show()"
   ]
  },
  {
   "cell_type": "markdown",
   "metadata": {},
   "source": [
    "#### Radar Plot for 1990s"
   ]
  },
  {
   "cell_type": "code",
   "execution_count": null,
   "metadata": {},
   "outputs": [],
   "source": [
    "analysis_1990 = df.loc['1990s', : ].tolist()\n",
    "\n",
    "df_1990 = pd.DataFrame(dict(\n",
    "    r=analysis_1990,\n",
    "    theta=['Acousticness','Danceability','Energy',\n",
    "           'Speechiness', 'Happiness']))\n",
    "fig_1990 = px.line_polar(df_1990, r='r', theta='theta', line_close=True)\n",
    "fig_1990.update_layout(font=dict(family=\"Helvetica\", color=\"#343a40\", size=14))\n",
    "fig_1990.update_traces(fill='toself', fillcolor=color_1990, mode='none')\n",
    "fig_1990.show()"
   ]
  },
  {
   "cell_type": "markdown",
   "metadata": {},
   "source": [
    "#### Radar Plot for 2000s"
   ]
  },
  {
   "cell_type": "code",
   "execution_count": null,
   "metadata": {},
   "outputs": [],
   "source": [
    "analysis_2000 = df.loc['2000s', : ].tolist()\n",
    "\n",
    "df_2000 = pd.DataFrame(dict(\n",
    "    r=analysis_2000,\n",
    "    theta=['Acousticness','Danceability','Energy',\n",
    "           'Speechiness', 'Happiness']))\n",
    "fig_2000 = px.line_polar(df_2000, r='r', theta='theta', line_close=True)\n",
    "fig_2000.update_layout(font=dict(family=\"Helvetica\", color=\"#343a40\", size=14))\n",
    "fig_2000.update_traces(fill='toself', fillcolor=color_2000, mode='none')\n",
    "fig_2000.show()"
   ]
  },
  {
   "cell_type": "markdown",
   "metadata": {},
   "source": [
    "#### Radar Plot for 2010s"
   ]
  },
  {
   "cell_type": "code",
   "execution_count": null,
   "metadata": {},
   "outputs": [],
   "source": [
    "analysis_2010 = df.loc['2010s', : ].tolist()\n",
    "\n",
    "df_2010 = pd.DataFrame(dict(\n",
    "    r=analysis_2010,\n",
    "    theta=['Acousticness','Danceability','Energy',\n",
    "           'Speechiness', 'Happiness']))\n",
    "fig_2010 = px.line_polar(df_2010, r='r', theta='theta', line_close=True)\n",
    "fig_2010.update_layout(font=dict(family=\"Helvetica\", color=\"#343a40\", size=14))\n",
    "fig_2010.update_traces(fill='toself', fillcolor=color_2010, mode='none')\n",
    "fig_2010.show()"
   ]
  }
 ],
 "metadata": {
  "kernelspec": {
   "display_name": "Python 3",
   "language": "python",
   "name": "python3"
  },
  "language_info": {
   "codemirror_mode": {
    "name": "ipython",
    "version": 3
   },
   "file_extension": ".py",
   "mimetype": "text/x-python",
   "name": "python",
   "nbconvert_exporter": "python",
   "pygments_lexer": "ipython3",
   "version": "3.8.5"
  }
 },
 "nbformat": 4,
 "nbformat_minor": 4
}
