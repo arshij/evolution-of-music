{
 "cells": [
  {
   "cell_type": "markdown",
   "metadata": {},
   "source": [
    "### Imports"
   ]
  },
  {
   "cell_type": "code",
   "execution_count": 89,
   "metadata": {},
   "outputs": [],
   "source": [
    "import spotipy\n",
    "from spotipy.oauth2 import SpotifyOAuth\n",
    "import pandas as pd\n",
    "import plotly.express as px\n",
    "from collections import OrderedDict"
   ]
  },
  {
   "cell_type": "markdown",
   "metadata": {},
   "source": [
    "### Authenticate Requests via the Client Credientials Flow"
   ]
  },
  {
   "cell_type": "code",
   "execution_count": 90,
   "metadata": {},
   "outputs": [],
   "source": [
    "scope = \"playlist-read-private, playlist-modify-private\"\n",
    "spotify = spotipy.Spotify(auth_manager=SpotifyOAuth(scope=scope))"
   ]
  },
  {
   "cell_type": "markdown",
   "metadata": {},
   "source": [
    "### Load all playlists"
   ]
  },
  {
   "cell_type": "code",
   "execution_count": null,
   "metadata": {},
   "outputs": [],
   "source": [
    "_1950 = spotify.playlist('37i9dQZF1DWSV3Tk4GO2fq') # 1950's hit playlist\n",
    "_1960 = spotify.playlist('37i9dQZF1DXaKIA8E7WcJj') # 1960's hit playlist\n",
    "_1970 = spotify.playlist('37i9dQZF1DWTJ7xPn4vNaz') # 1970's hit playlist\n",
    "_1980 = spotify.playlist('37i9dQZF1DX4UtSsGT1Sbe') # 1980's hit playlist\n",
    "_1990 = spotify.playlist('37i9dQZF1DXbTxeAdrVG2l') # 1990's hit playlist\n",
    "_2000 = spotify.playlist('37i9dQZF1DX4o1oenSJRJd') # 2000's hit playlist\n",
    "_2010 = spotify.playlist('37i9dQZF1DX5Ejj0EkURtP') # 2010's hit playlist\n",
    "\n",
    "playlists = [_1950, _1960, _1970, _1980, _1990, _2000, _2010]"
   ]
  },
  {
   "cell_type": "markdown",
   "metadata": {},
   "source": [
    "### Get danceability scores from all songs from decade playlists"
   ]
  },
  {
   "cell_type": "code",
   "execution_count": 92,
   "metadata": {},
   "outputs": [],
   "source": [
    "all_tracks = []\n",
    "all_danceability_scores = []\n",
    "\n",
    "for playlist in playlists:\n",
    "    \n",
    "    tracks = playlist['tracks']['items'] # get all tracks in playlist object\n",
    "    track_uri_list = []\n",
    "    \n",
    "    for track in tracks:\n",
    "        all_tracks.append(track['track'])\n",
    "        track_uri_list.append(track['track']['id']) # extract track uri and add to track_uri_list\n",
    "    \n",
    "    audio_features = spotify.audio_features(track_uri_list)\n",
    "\n",
    "    for track in audio_features:\n",
    "        all_danceability_scores.append(track['danceability'])"
   ]
  },
  {
   "cell_type": "markdown",
   "metadata": {},
   "source": [
    "#### Merge Danceability scores to dataframe and sort"
   ]
  },
  {
   "cell_type": "code",
   "execution_count": 93,
   "metadata": {},
   "outputs": [],
   "source": [
    "df = pd.DataFrame(all_tracks)\n",
    "df['Danceability'] = all_danceability_scores \n",
    "df = df.sort_values('Danceability', ascending=False)"
   ]
  },
  {
   "cell_type": "markdown",
   "metadata": {},
   "source": [
    "#### Build playlist from the top 100 songs"
   ]
  },
  {
   "cell_type": "code",
   "execution_count": 99,
   "metadata": {},
   "outputs": [],
   "source": [
    "top_danceability_df = df.head(100)"
   ]
  },
  {
   "cell_type": "code",
   "execution_count": null,
   "metadata": {},
   "outputs": [],
   "source": [
    "spotify.user_playlist_create('arshijujara', \"The Best Dance Hits from the 1950's to the Present\", public=False, collaborative=False, description='The hit songs from each decade that have the highest danceability scores (built with the Spotify Audio Analysis API).')\n",
    "playlist_id = spotify.user_playlists('arshijujara', limit=1, offset=0)['items'][0]['id']\n",
    "spotify.user_playlist_add_tracks('arshijujara', playlist_id, top_danceability_df['uri'], position=None)"
   ]
  }
 ],
 "metadata": {
  "kernelspec": {
   "display_name": "Python 3",
   "language": "python",
   "name": "python3"
  },
  "language_info": {
   "codemirror_mode": {
    "name": "ipython",
    "version": 3
   },
   "file_extension": ".py",
   "mimetype": "text/x-python",
   "name": "python",
   "nbconvert_exporter": "python",
   "pygments_lexer": "ipython3",
   "version": "3.8.5"
  }
 },
 "nbformat": 4,
 "nbformat_minor": 4
}
